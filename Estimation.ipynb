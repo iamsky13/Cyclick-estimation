{
 "cells": [
  {
   "cell_type": "markdown",
   "metadata": {},
   "source": [
    "# Declaration and Assumption\n"
   ]
  },
  {
   "cell_type": "code",
   "execution_count": 3,
   "metadata": {},
   "outputs": [],
   "source": [
    "import numpy as np\n",
    "no_of_cycles = np.array([10,20,50,100])\n",
    "other_expense_per_month = np.array([0,0,0,0])\n",
    "hardware_unit_cost_dollar = 55\n",
    "hardware_unit_cost = 55 * 111.76 #dollar rate\n",
    "cycle_unit_cost = 15000\n",
    "o_m_cost = 3000 + (500 * no_of_cycles) # 3000 Operation software + 500 per month maintenance per cycle\n",
    "avg_income_per_ride=np.array([15,30,40,50])\n",
    "\n",
    "avg_no_of_ride_per_day = np.array([0.5,1,2,5,10]) #no of times bike is used\n",
    "\n"
   ]
  },
  {
   "cell_type": "code",
   "execution_count": 4,
   "metadata": {},
   "outputs": [
    {
     "name": "stdout",
     "output_type": "stream",
     "text": [
      "no_of_cycles [ 10  20  50 100]\n",
      "hardware_unit_cost  6146.8\n",
      "o_m_cost per month [ 8000 13000 28000 53000]\n"
     ]
    }
   ],
   "source": [
    "\n",
    "\n",
    "print('no_of_cycles',no_of_cycles)\n",
    "\n",
    "print('hardware_unit_cost ',hardware_unit_cost )\n",
    "\n",
    "print('o_m_cost per month',o_m_cost)"
   ]
  },
  {
   "cell_type": "markdown",
   "metadata": {},
   "source": [
    "# Expense\n"
   ]
  },
  {
   "cell_type": "code",
   "execution_count": 5,
   "metadata": {},
   "outputs": [
    {
     "name": "stdout",
     "output_type": "stream",
     "text": [
      "total_cycle_cost  [ 150000  300000  750000 1500000]\n",
      "total_cycle_hardware_cost [ 211468.  422936. 1057340. 2114680.]\n",
      "cash_outflow_per_year for cycle hardware maintenance and operation [ 307468.  578936. 1393340. 2750680.]\n",
      "final cost [ 307468.  578936. 1393340. 2750680.]\n"
     ]
    }
   ],
   "source": [
    "total_cycle_cost = (no_of_cycles * cycle_unit_cost)\n",
    "print('total_cycle_cost ',total_cycle_cost)\n",
    "total_cycle_hardware_cost =total_cycle_cost+hardware_unit_cost*no_of_cycles\n",
    "print('total_cycle_hardware_cost',total_cycle_hardware_cost)\n",
    "cash_outflow_per_year = total_cycle_hardware_cost+o_m_cost*12\n",
    "print('cash_outflow_per_year for cycle hardware maintenance and operation', cash_outflow_per_year)\n",
    "print('final cost',cash_outflow_per_year+other_expense_per_month)"
   ]
  },
  {
   "cell_type": "code",
   "execution_count": 6,
   "metadata": {},
   "outputs": [
    {
     "name": "stdout",
     "output_type": "stream",
     "text": [
      "[ 61468. 122936. 307340. 614680.]\n"
     ]
    }
   ],
   "source": [
    "print(no_of_cycles * hardware_unit_cost)"
   ]
  },
  {
   "cell_type": "markdown",
   "metadata": {},
   "source": [
    "# Income"
   ]
  },
  {
   "cell_type": "code",
   "execution_count": 7,
   "metadata": {},
   "outputs": [
    {
     "name": "stdout",
     "output_type": "stream",
     "text": [
      "estimated_no_of_rides_for_10_cycle_per_day [  5.  10.  20.  50. 100.]\n",
      "estimated_no_of_rides_for_20_cycle_per_day [ 10.  20.  40. 100. 200.]\n",
      "estimated_no_of_rides_for_50_cycle_per_day [ 25.  50. 100. 250. 500.]\n",
      "estimated_no_of_rides_for_100_cycle_per_day [  50.  100.  200.  500. 1000.]\n"
     ]
    }
   ],
   "source": [
    "no_of_rides=[]\n",
    "for x in range(len(no_of_cycles)):\n",
    "    no_of_rides.append(no_of_cycles[x] * avg_no_of_ride_per_day)\n",
    "    print('estimated_no_of_rides_for_'+str(no_of_cycles[x])+'_cycle_per_day',no_of_rides[x])"
   ]
  },
  {
   "cell_type": "code",
   "execution_count": 8,
   "metadata": {},
   "outputs": [
    {
     "name": "stdout",
     "output_type": "stream",
     "text": [
      "[ 150.  300.  600. 1500. 3000.]\n"
     ]
    }
   ],
   "source": [
    "print(no_of_rides[1]*avg_income_per_ride[0])"
   ]
  },
  {
   "cell_type": "code",
   "execution_count": 9,
   "metadata": {},
   "outputs": [
    {
     "name": "stdout",
     "output_type": "stream",
     "text": [
      "for 10 cycle per day for [  5.  10.  20.  50. 100.] rides\n",
      "avg per ride rs 15\n",
      " [  75.  150.  300.  750. 1500.]\n",
      "avg transaction per year [ 27375.  54750. 109500. 273750. 547500.]\n",
      "for 10 cycle per day for [  5.  10.  20.  50. 100.] rides\n",
      "avg per ride rs 30\n",
      " [ 150.  300.  600. 1500. 3000.]\n",
      "avg transaction per year [  54750.  109500.  219000.  547500. 1095000.]\n",
      "for 10 cycle per day for [  5.  10.  20.  50. 100.] rides\n",
      "avg per ride rs 40\n",
      " [ 200.  400.  800. 2000. 4000.]\n",
      "avg transaction per year [  73000.  146000.  292000.  730000. 1460000.]\n",
      "for 10 cycle per day for [  5.  10.  20.  50. 100.] rides\n",
      "avg per ride rs 50\n",
      " [ 250.  500. 1000. 2500. 5000.]\n",
      "avg transaction per year [  91250.  182500.  365000.  912500. 1825000.]\n",
      "for 20 cycle per day for [ 10.  20.  40. 100. 200.] rides\n",
      "avg per ride rs 15\n",
      " [  75.  150.  300.  750. 1500.]\n",
      "avg transaction per year [ 27375.  54750. 109500. 273750. 547500.]\n",
      "for 20 cycle per day for [ 10.  20.  40. 100. 200.] rides\n",
      "avg per ride rs 30\n",
      " [ 150.  300.  600. 1500. 3000.]\n",
      "avg transaction per year [  54750.  109500.  219000.  547500. 1095000.]\n",
      "for 20 cycle per day for [ 10.  20.  40. 100. 200.] rides\n",
      "avg per ride rs 40\n",
      " [ 200.  400.  800. 2000. 4000.]\n",
      "avg transaction per year [  73000.  146000.  292000.  730000. 1460000.]\n",
      "for 20 cycle per day for [ 10.  20.  40. 100. 200.] rides\n",
      "avg per ride rs 50\n",
      " [ 250.  500. 1000. 2500. 5000.]\n",
      "avg transaction per year [  91250.  182500.  365000.  912500. 1825000.]\n",
      "for 50 cycle per day for [ 25.  50. 100. 250. 500.] rides\n",
      "avg per ride rs 15\n",
      " [  75.  150.  300.  750. 1500.]\n",
      "avg transaction per year [ 27375.  54750. 109500. 273750. 547500.]\n",
      "for 50 cycle per day for [ 25.  50. 100. 250. 500.] rides\n",
      "avg per ride rs 30\n",
      " [ 150.  300.  600. 1500. 3000.]\n",
      "avg transaction per year [  54750.  109500.  219000.  547500. 1095000.]\n",
      "for 50 cycle per day for [ 25.  50. 100. 250. 500.] rides\n",
      "avg per ride rs 40\n",
      " [ 200.  400.  800. 2000. 4000.]\n",
      "avg transaction per year [  73000.  146000.  292000.  730000. 1460000.]\n",
      "for 50 cycle per day for [ 25.  50. 100. 250. 500.] rides\n",
      "avg per ride rs 50\n",
      " [ 250.  500. 1000. 2500. 5000.]\n",
      "avg transaction per year [  91250.  182500.  365000.  912500. 1825000.]\n",
      "for 100 cycle per day for [  50.  100.  200.  500. 1000.] rides\n",
      "avg per ride rs 15\n",
      " [  75.  150.  300.  750. 1500.]\n",
      "avg transaction per year [ 27375.  54750. 109500. 273750. 547500.]\n",
      "for 100 cycle per day for [  50.  100.  200.  500. 1000.] rides\n",
      "avg per ride rs 30\n",
      " [ 150.  300.  600. 1500. 3000.]\n",
      "avg transaction per year [  54750.  109500.  219000.  547500. 1095000.]\n",
      "for 100 cycle per day for [  50.  100.  200.  500. 1000.] rides\n",
      "avg per ride rs 40\n",
      " [ 200.  400.  800. 2000. 4000.]\n",
      "avg transaction per year [  73000.  146000.  292000.  730000. 1460000.]\n",
      "for 100 cycle per day for [  50.  100.  200.  500. 1000.] rides\n",
      "avg per ride rs 50\n",
      " [ 250.  500. 1000. 2500. 5000.]\n",
      "avg transaction per year [  91250.  182500.  365000.  912500. 1825000.]\n"
     ]
    }
   ],
   "source": [
    "per_day_transaction=[]\n",
    "per_year_transaction=[]\n",
    "for x in range(len(no_of_cycles)):\n",
    "    for y in range(len(avg_income_per_ride)):\n",
    "        per_day_transaction.append(no_of_rides[x]*avg_income_per_ride[y])\n",
    "        print('for '+str(no_of_cycles[x])+' cycle per day for '+str(no_of_rides[x])+' rides')\n",
    "        print('avg per ride rs '+str(avg_income_per_ride[y])+'\\n',per_day_transaction[y])\n",
    "        per_year_transaction.append(per_day_transaction[y]*365)\n",
    "        print('avg transaction per year '+str(per_year_transaction[y]))\n",
    "        \n"
   ]
  },
  {
   "cell_type": "markdown",
   "metadata": {},
   "source": [
    "# For 1 bike proposed price\n"
   ]
  },
  {
   "cell_type": "code",
   "execution_count": 10,
   "metadata": {},
   "outputs": [
    {
     "name": "stdout",
     "output_type": "stream",
     "text": [
      "[ 30  30  30  30  60 180 300 480]\n"
     ]
    }
   ],
   "source": [
    "base_time = 30 #all time will be in minute\n",
    "base_price = 20\n",
    "extra_unit_time = 10 \n",
    "extra_unit_charge = 10\n",
    "assumption_time_per_day = np.array([5,10,20,30,60,180,300,480])\n",
    "normalized_assumption = np.where(assumption_time_per_day<=30,30,assumption_time_per_day)\n",
    "print(normalized_assumption)"
   ]
  },
  {
   "cell_type": "code",
   "execution_count": 11,
   "metadata": {},
   "outputs": [
    {
     "name": "stdout",
     "output_type": "stream",
     "text": [
      "per day transaction [ 20.  20.  20.  20.  50. 170. 290. 470.]\n",
      "per year transaction [  7300.   7300.   7300.   7300.  18250.  62050. 105850. 171550.]\n"
     ]
    }
   ],
   "source": [
    "transaction_per_day = (((normalized_assumption - 30)/10)*10)+20\n",
    "transaction_yearly =transaction_per_day*365\n",
    "print('per day transaction',transaction_per_day)\n",
    "print('per year transaction', transaction_yearly)"
   ]
  },
  {
   "cell_type": "code",
   "execution_count": 12,
   "metadata": {},
   "outputs": [],
   "source": [
    "import matplotlib.pyplot as plt"
   ]
  },
  {
   "cell_type": "code",
   "execution_count": 13,
   "metadata": {},
   "outputs": [
    {
     "name": "stdout",
     "output_type": "stream",
     "text": [
      "total revenue per year per cycle on avg time per day\n"
     ]
    },
    {
     "data": {
      "text/plain": [
       "[<matplotlib.lines.Line2D at 0x16d7c715668>]"
      ]
     },
     "execution_count": 13,
     "metadata": {},
     "output_type": "execute_result"
    },
    {
     "data": {
      "image/png": "[encoded data removed]",
      "text/plain": [
       "<Figure size 432x288 with 1 Axes>"
      ]
     },
     "metadata": {
      "needs_background": "light"
     },
     "output_type": "display_data"
    }
   ],
   "source": [
    "print('total revenue per year per cycle on avg time per day')\n",
    "plt.plot(assumption_time_per_day, transaction_yearly, linewidth=3)"
   ]
  },
  {
   "cell_type": "code",
   "execution_count": 96,
   "metadata": {},
   "outputs": [],
   "source": [
    "#assuming 30 cycles adding 10 after 9 months\n",
    "expense_per_month=np.zeros(12)\n",
    "mon=30*hardware_unit_cost+30*cycle_unit_cost+3000 + (500 * 30)\n",
    "expense_per_month[0] = mon\n",
    "#for 9 months calculating only OM cost\n",
    "for i in range(12-1):\n",
    "    expense_per_month[i+1]=expense_per_month[i]+3000 + (500 * 30)\n",
    "    if i==8:\n",
    "        expense_per_month[i+1] = expense_per_month[i+1]+10*hardware_unit_cost+10*cycle_unit_cost"
   ]
  },
  {
   "cell_type": "code",
   "execution_count": 97,
   "metadata": {},
   "outputs": [
    {
     "name": "stdout",
     "output_type": "stream",
     "text": [
      "[ 652404.  670404.  688404.  706404.  724404.  742404.  760404.  778404.\n",
      "  796404. 1025872. 1043872. 1061872.]\n"
     ]
    }
   ],
   "source": [
    "print((expense_per_month))"
   ]
  },
  {
   "cell_type": "markdown",
   "metadata": {},
   "source": [
    "# assuming atleast 3 hour of rides per cycle per day and increasing usage by 1.5% monthly for 3 months by 3% for next 6 month "
   ]
  },
  {
   "cell_type": "code",
   "execution_count": 106,
   "metadata": {},
   "outputs": [
    {
     "name": "stdout",
     "output_type": "stream",
     "text": [
      "[ 135020.          272470.          412386.45        554806.34675\n",
      "  702308.2404025   855044.59086457 1013172.43184051 1176853.50804573\n",
      " 1346254.4165371  1521546.75228321 1696839.08802933 1872131.42377544]\n",
      "[ 180.          362.7         548.1405      736.3626075   930.23137822\n",
      " 1129.91621207 1335.59159093 1547.43723116 1765.6382406  1990.38528031\n",
      " 2215.13232003 2439.87935975]\n"
     ]
    }
   ],
   "source": [
    "income_per_month=np.zeros(12)\n",
    "time = 180\n",
    "time_array=np.zeros(12)\n",
    "income_per_month[0]=20+(time-30)*30*30\n",
    "time_array[0]=time\n",
    "for i in range(12-1):   \n",
    "    if i < 3:\n",
    "        time = 1.015*time        \n",
    "    if i >= 3 and i < 9:\n",
    "        time = 1.03 * time\n",
    "    time_array[i+1]=time_array[i]+time\n",
    "    income_per_month[i+1]=income_per_month[i]+20+(time-30)*30*30\n",
    "print(income_per_month)\n",
    "print(time_array)"
   ]
  },
  {
   "cell_type": "code",
   "execution_count": 117,
   "metadata": {},
   "outputs": [
    {
     "data": {
      "text/plain": [
       "[<matplotlib.lines.Line2D at 0x16d7ca85e48>]"
      ]
     },
     "execution_count": 117,
     "metadata": {},
     "output_type": "execute_result"
    },
    {
     "data": {
      "image/png": "[encoded data removed]",
      "text/plain": [
       "<Figure size 432x288 with 1 Axes>"
      ]
     },
     "metadata": {
      "needs_background": "light"
     },
     "output_type": "display_data"
    }
   ],
   "source": [
    "plt.plot(np.array([1,2,3,4,5,6,7,8,9,10,11,12]), expense_per_month, linewidth=3)\n",
    "plt.plot(np.array([1,2,3,4,5,6,7,8,9,10,11,12]), income_per_month, linewidth=3)"
   ]
  },
  {
   "cell_type": "code",
   "execution_count": null,
   "metadata": {},
   "outputs": [],
   "source": []
  },
  {
   "cell_type": "code",
   "execution_count": null,
   "metadata": {},
   "outputs": [],
   "source": []
  },
  {
   "cell_type": "code",
   "execution_count": 111,
   "metadata": {},
   "outputs": [
    {
     "data": {
      "text/plain": [
       "array([ 0,  1,  2,  3,  4,  5,  6,  7,  8,  9, 10, 11])"
      ]
     },
     "execution_count": 111,
     "metadata": {},
     "output_type": "execute_result"
    }
   ],
   "source": [
    "np.array(range(12))"
   ]
  },
  {
   "cell_type": "code",
   "execution_count": null,
   "metadata": {},
   "outputs": [],
   "source": []
  },
  {
   "cell_type": "code",
   "execution_count": null,
   "metadata": {},
   "outputs": [],
   "source": []
  },
  {
   "cell_type": "code",
   "execution_count": null,
   "metadata": {},
   "outputs": [],
   "source": []
  },
  {
   "cell_type": "code",
   "execution_count": null,
   "metadata": {},
   "outputs": [],
   "source": []
  },
  {
   "cell_type": "code",
   "execution_count": null,
   "metadata": {},
   "outputs": [],
   "source": []
  },
  {
   "cell_type": "code",
   "execution_count": null,
   "metadata": {},
   "outputs": [],
   "source": []
  },
  {
   "cell_type": "code",
   "execution_count": null,
   "metadata": {},
   "outputs": [],
   "source": []
  },
  {
   "cell_type": "code",
   "execution_count": null,
   "metadata": {},
   "outputs": [],
   "source": []
  },
  {
   "cell_type": "code",
   "execution_count": null,
   "metadata": {},
   "outputs": [],
   "source": []
  },
  {
   "cell_type": "code",
   "execution_count": null,
   "metadata": {},
   "outputs": [],
   "source": []
  },
  {
   "cell_type": "code",
   "execution_count": null,
   "metadata": {},
   "outputs": [],
   "source": []
  },
  {
   "cell_type": "code",
   "execution_count": null,
   "metadata": {},
   "outputs": [],
   "source": []
  }
 ],
 "metadata": {
  "kernelspec": {
   "display_name": "Python 3",
   "language": "python",
   "name": "python3"
  },
  "language_info": {
   "codemirror_mode": {
    "name": "ipython",
    "version": 3
   },
   "file_extension": ".py",
   "mimetype": "text/x-python",
   "name": "python",
   "nbconvert_exporter": "python",
   "pygments_lexer": "ipython3",
   "version": "3.6.8"
  }
 },
 "nbformat": 4,
 "nbformat_minor": 2
}
